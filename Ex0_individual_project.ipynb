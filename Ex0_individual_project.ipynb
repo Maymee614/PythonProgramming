{
  "cells": [
    {
      "cell_type": "markdown",
      "metadata": {
        "id": "1hKnU8E12knQ"
      },
      "source": [
        "1) Write a Python program in the below cell to create a dictionary that count the frequency of words in the string given in Q1.txt. Find the most frequent occured word.\n",
        "\n",
        "Don't remove the comment lines provided."
      ]
    },
    {
      "cell_type": "code",
      "source": [
        "!git clone https://github.com/Maymee614/PythonProgramming.git"
      ],
      "metadata": {
        "id": "ykbQYxa32lug",
        "outputId": "c051f236-ca67-4965-97f8-2a14113af27e",
        "colab": {
          "base_uri": "https://localhost:8080/"
        }
      },
      "execution_count": 7,
      "outputs": [
        {
          "output_type": "stream",
          "name": "stdout",
          "text": [
            "fatal: destination path 'PythonProgramming' already exists and is not an empty directory.\n"
          ]
        }
      ]
    },
    {
      "cell_type": "code",
      "execution_count": 15,
      "metadata": {
        "id": "H7GKE72P2knT",
        "outputId": "baeaa382-e3ad-4464-da90-4b5f8b7e4823",
        "colab": {
          "base_uri": "https://localhost:8080/"
        }
      },
      "outputs": [
        {
          "output_type": "stream",
          "name": "stdout",
          "text": [
            "I love this movie! It is sweet, but with satirical humor. The dialogs are great and the adventure scenes are fun. It manages to be romantic and whimsical while laughingat the conventions of the fairy tale genre. I would recommend it to just about anyone. I have seen it several times and I am always happy to see it again and again. \n"
          ]
        }
      ],
      "source": [
        "#step 1: read content from Q1.txt\n",
        "with open('/content/PythonProgramming/data/Q1.txt', 'r') as file1:\n",
        "    word_string = file1.read()\n",
        "    print(word_string)\n",
        "#step 2.1 - change the case to upper or lower.\n",
        "#step 2.2 - remove pun : use replace\n",
        "#step 2.3 - split using space\n",
        "\n",
        "\n",
        "#Step 3: create a dictionary\n",
        "\n",
        "#Step 4: find the most frequent occured one\n",
        "\n",
        "\n",
        "\n",
        ""
      ]
    },
    {
      "cell_type": "markdown",
      "metadata": {
        "id": "SQ6mBCvd2knV"
      },
      "source": [
        "2) Write a Python program to read the name from Q2.txt and create email using domain 'simons-rock.edu' and save the results as dictionary : {'name': 'name@simons-rock.edu'}.\n",
        "Please take note that your email should not include space or any special characters and all charcters should be in lowercase."
      ]
    },
    {
      "cell_type": "code",
      "execution_count": 14,
      "metadata": {
        "id": "qXoK_eWj2knV"
      },
      "outputs": [],
      "source": [
        "#step 1: read Q2. txt into the list\n",
        "with open ('/content/PythonProgramming/data/Q2.txt', 'r') as names:\n",
        "    header = names.readline()\n",
        "    namelist = names.readlines()\n",
        "\n",
        "#step 2: create email for each name in the list and save them in the dictionary\n",
        "# You need to do the necessary data cleaning\n",
        "# For example, removing the space and special characters if there is any, converting them to lower case\n",
        "\n",
        ""
      ]
    },
    {
      "cell_type": "markdown",
      "metadata": {
        "id": "9k7ejRpA2knW"
      },
      "source": [
        "3) Write a Python program for \"Guessing Game: Guess the Number Challenge\"\n",
        "\n",
        "Step 1: Use a random function to generate a number.\n",
        "\n",
        "##### Game starts.......\n",
        "\n",
        "Step 2: Prompt the user to guess an integer number. Provide a range if needed to give the user context for their guess.\n",
        "\n",
        "Step 3: Check the condition of the guessed number compared to the generated number and provide feedback accordingly. For example, if the guess is too high or too low, inform the user.\n",
        "\n",
        "Step 4.1: If the guess is incorrect, allow the user to guess again. Repeat this process for a maximum of 10 guesses.\n",
        "\n",
        "Step 4.2: If the user guesses the number correctly, inform them that they have won. Also, indicate how many guesses were needed before guessing correctly.\n",
        "\n",
        "Step 4.3: If the user exhausts all 10 guesses without guessing the correct number, say \"goodbye.\"\n",
        "\n",
        "##### Game ends ...\n",
        "\n",
        "Step 5: Regardless of winning or losing, ask the user if they want to play again. This ensures the program's continuity and gives the user the option to continue playing if they wish."
      ]
    },
    {
      "cell_type": "code",
      "execution_count": null,
      "metadata": {
        "id": "DOmiYcgo2knX"
      },
      "outputs": [],
      "source": [
        "\n",
        "\n"
      ]
    }
  ],
  "metadata": {
    "kernelspec": {
      "display_name": "Python 3",
      "language": "python",
      "name": "python3"
    },
    "language_info": {
      "codemirror_mode": {
        "name": "ipython",
        "version": 3
      },
      "file_extension": ".py",
      "mimetype": "text/x-python",
      "name": "python",
      "nbconvert_exporter": "python",
      "pygments_lexer": "ipython3",
      "version": "3.12.1"
    },
    "colab": {
      "provenance": []
    }
  },
  "nbformat": 4,
  "nbformat_minor": 0
}